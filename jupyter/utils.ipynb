{
 "cells": [
  {
   "cell_type": "code",
   "execution_count": null,
   "metadata": {},
   "outputs": [],
   "source": [
    "from pathlib import Path \n",
    "from functools import reduce \n",
    "import csv \n",
    "import pandas as pd "
   ]
  },
  {
   "cell_type": "code",
   "execution_count": null,
   "metadata": {},
   "outputs": [],
   "source": [
    "def fullpath(*path):\n",
    "  root = Path(\".\")\n",
    "  full = reduce(lambda a, b: Path(a) / Path(b), path, root)\n",
    "  return full.resolve().absolute() \n",
    "\n",
    "def ensure_dir(*path):\n",
    "  dirname = fullpath(*path)\n",
    "  if dirname.exists() == False: \n",
    "    dirname.mkdir(parents=True, exist_ok=True)\n",
    "  return dirname \n",
    "\n",
    "# filename = fullpath(ensure_dir(\"../test\"), \"test.csv\")\n",
    "# filename"
   ]
  },
  {
   "cell_type": "code",
   "execution_count": null,
   "metadata": {},
   "outputs": [],
   "source": [
    "def load_csv(filename, dtype=str, **kargs):\n",
    "  return pd.read_csv(filename, dtype=dtype, **kargs)\n",
    "\n",
    "def save_csv(df, filename, index=False, quoting=csv.QUOTE_ALL, encoding=\"utf-8_sig\", **kargs):\n",
    "  filename = fullpath(filename)\n",
    "  df.to_csv(filename, index=index, quoting=quoting, encoding=encoding, **kargs)\n",
    "  return filename \n",
    "\n",
    "# df = pd.DataFrame([dict(id=x, name=f\"name of {x}\") for x in range(10)])\n",
    "# save_csv(df, filename )\n",
    "# load_csv(filename)"
   ]
  },
  {
   "cell_type": "code",
   "execution_count": null,
   "metadata": {},
   "outputs": [],
   "source": [
    "class dotdict(dict):\n",
    "  def __setattr__(self, name, value):\n",
    "    self[name] = value \n",
    "  def __getattr__(self, name):\n",
    "    return self.get(name)\n",
    "\n",
    "# dd = dotdict(dict(id=\"hoge\", name=\"fuga\"))\n",
    "# dd.foo = \"bar\"\n",
    "# dd"
   ]
  }
 ],
 "metadata": {
  "interpreter": {
   "hash": "026d69f88b532a5652e86a2c423a2c9b09db65f0944232314c8121562750e7b3"
  },
  "kernelspec": {
   "display_name": "Python 3.10.2 ('.venv': poetry)",
   "language": "python",
   "name": "python3"
  },
  "language_info": {
   "codemirror_mode": {
    "name": "ipython",
    "version": 3
   },
   "file_extension": ".py",
   "mimetype": "text/x-python",
   "name": "python",
   "nbconvert_exporter": "python",
   "pygments_lexer": "ipython3",
   "version": "3.10.2"
  },
  "orig_nbformat": 4
 },
 "nbformat": 4,
 "nbformat_minor": 2
}
